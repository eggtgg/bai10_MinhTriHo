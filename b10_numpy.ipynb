{
 "cells": [
  {
   "cell_type": "code",
   "execution_count": 4,
   "metadata": {},
   "outputs": [],
   "source": [
    "import numpy as np"
   ]
  },
  {
   "cell_type": "code",
   "execution_count": 9,
   "metadata": {},
   "outputs": [
    {
     "name": "stdout",
     "output_type": "stream",
     "text": [
      "[[1 2 1]\n",
      " [1 2 5]]\n",
      "[[1 2 3]\n",
      " [1 2 2]]\n"
     ]
    }
   ],
   "source": [
    "a = np.array([[1, 2, 1],[1,2,5]])\n",
    "print('a= 'a)\n",
    "b = np.array([[1, 2, 3],[1,2,2]])\n",
    "print('b= 'b)"
   ]
  },
  {
   "cell_type": "code",
   "execution_count": 14,
   "metadata": {},
   "outputs": [
    {
     "name": "stdout",
     "output_type": "stream",
     "text": [
      "a+b= \n",
      " [[2 4 4]\n",
      " [2 4 7]]\n",
      "a*b= \n",
      " [[ 1  4  3]\n",
      " [ 1  4 10]]\n"
     ]
    }
   ],
   "source": [
    "c=a+b\n",
    "d=a*b\n",
    "print('a+b= \\n',c)\n",
    "print('a*b= \\n',d)"
   ]
  },
  {
   "cell_type": "code",
   "execution_count": 19,
   "metadata": {},
   "outputs": [],
   "source": [
    "def chuyen_vi(mt):\n",
    "    kq= print(mt.transpose())\n",
    "    return kq"
   ]
  },
  {
   "cell_type": "code",
   "execution_count": 20,
   "metadata": {},
   "outputs": [
    {
     "name": "stdout",
     "output_type": "stream",
     "text": [
      "[[1 1]\n",
      " [2 2]\n",
      " [1 5]]\n"
     ]
    }
   ],
   "source": [
    "chuyen_vi(a)"
   ]
  },
  {
   "cell_type": "code",
   "execution_count": 21,
   "metadata": {},
   "outputs": [
    {
     "name": "stdout",
     "output_type": "stream",
     "text": [
      "[[1 1]\n",
      " [2 2]\n",
      " [3 2]]\n"
     ]
    }
   ],
   "source": [
    "chuyen_vi(b)"
   ]
  }
 ],
 "metadata": {
  "kernelspec": {
   "display_name": "Python 3",
   "language": "python",
   "name": "python3"
  },
  "language_info": {
   "codemirror_mode": {
    "name": "ipython",
    "version": 3
   },
   "file_extension": ".py",
   "mimetype": "text/x-python",
   "name": "python",
   "nbconvert_exporter": "python",
   "pygments_lexer": "ipython3",
   "version": "3.8.5"
  }
 },
 "nbformat": 4,
 "nbformat_minor": 4
}
